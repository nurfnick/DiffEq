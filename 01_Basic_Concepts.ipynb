{
  "nbformat": 4,
  "nbformat_minor": 0,
  "metadata": {
    "colab": {
      "provenance": [],
      "authorship_tag": "ABX9TyM2XNmdnUkOSRTBeSFDMwVW",
      "include_colab_link": true
    },
    "kernelspec": {
      "name": "python3",
      "display_name": "Python 3"
    },
    "language_info": {
      "name": "python"
    }
  },
  "cells": [
    {
      "cell_type": "markdown",
      "metadata": {
        "id": "view-in-github",
        "colab_type": "text"
      },
      "source": [
        "<a href=\"https://colab.research.google.com/github/nurfnick/DiffEq/blob/main/01_Basic_Concepts.ipynb\" target=\"_parent\"><img src=\"https://colab.research.google.com/assets/colab-badge.svg\" alt=\"Open In Colab\"/></a>"
      ]
    },
    {
      "cell_type": "code",
      "execution_count": 11,
      "metadata": {
        "id": "mwFHSmbeMRLC"
      },
      "outputs": [],
      "source": [
        "import sympy\n",
        "\n",
        "x = sympy.Symbol('x')\n",
        "c1 = sympy.Symbol('c1')\n",
        "c2 = sympy.Symbol('c2')\n",
        "\n"
      ]
    },
    {
      "cell_type": "code",
      "source": [
        "f = x**3\n",
        "\n",
        "f"
      ],
      "metadata": {
        "colab": {
          "base_uri": "https://localhost:8080/",
          "height": 39
        },
        "id": "12BAl9lUMwV_",
        "outputId": "8b1c6bbe-2b04-4f13-86b5-53c9215d4679"
      },
      "execution_count": 6,
      "outputs": [
        {
          "output_type": "execute_result",
          "data": {
            "text/plain": [
              "x**3"
            ],
            "text/latex": "$\\displaystyle x^{3}$"
          },
          "metadata": {},
          "execution_count": 6
        }
      ]
    },
    {
      "cell_type": "code",
      "source": [
        "sympy.integrate(f,x)"
      ],
      "metadata": {
        "colab": {
          "base_uri": "https://localhost:8080/",
          "height": 54
        },
        "id": "TO_YmNMDMdf-",
        "outputId": "8257998a-615e-4880-dbb8-d55a78d19a03"
      },
      "execution_count": 7,
      "outputs": [
        {
          "output_type": "execute_result",
          "data": {
            "text/plain": [
              "x**4/4"
            ],
            "text/latex": "$\\displaystyle \\frac{x^{4}}{4}$"
          },
          "metadata": {},
          "execution_count": 7
        }
      ]
    },
    {
      "cell_type": "markdown",
      "source": [
        "Anything wrong with the above solution?"
      ],
      "metadata": {
        "id": "ZoiR0E3GMyiK"
      }
    },
    {
      "cell_type": "markdown",
      "source": [
        "Show that something is a solution of the diff eq.\n",
        "$$y = (c_1+c_2x)e^{-x}+2x-4$$\n",
        "is a solution of\n",
        "$$y''+2y'+y = 2x$$"
      ],
      "metadata": {
        "id": "vOUO8rNUNVz8"
      }
    },
    {
      "cell_type": "code",
      "source": [
        "y =(c1+c2*x)*sympy.E**(-1*x) + 2*x-4\n",
        "\n",
        "y"
      ],
      "metadata": {
        "colab": {
          "base_uri": "https://localhost:8080/",
          "height": 39
        },
        "id": "KH-S8j0FMkC1",
        "outputId": "e6106558-3bb7-4748-e9cc-a084d32f37f3"
      },
      "execution_count": 24,
      "outputs": [
        {
          "output_type": "execute_result",
          "data": {
            "text/plain": [
              "2*x + (c1 + c2*x)*exp(-x) - 4"
            ],
            "text/latex": "$\\displaystyle 2 x + \\left(c_{1} + c_{2} x\\right) e^{- x} - 4$"
          },
          "metadata": {},
          "execution_count": 24
        }
      ]
    },
    {
      "cell_type": "code",
      "source": [
        "y.diff(x)"
      ],
      "metadata": {
        "colab": {
          "base_uri": "https://localhost:8080/",
          "height": 39
        },
        "id": "2VFyT9OYNEp1",
        "outputId": "d62865ea-0196-4579-9e2c-b9fbc669aee1"
      },
      "execution_count": 17,
      "outputs": [
        {
          "output_type": "execute_result",
          "data": {
            "text/plain": [
              "c2*exp(-x) - (c1 + c2*x)*exp(-x) + 2"
            ],
            "text/latex": "$\\displaystyle c_{2} e^{- x} - \\left(c_{1} + c_{2} x\\right) e^{- x} + 2$"
          },
          "metadata": {},
          "execution_count": 17
        }
      ]
    },
    {
      "cell_type": "code",
      "source": [
        "y.diff(x).diff(x) +2*y.diff(x) +y"
      ],
      "metadata": {
        "colab": {
          "base_uri": "https://localhost:8080/",
          "height": 39
        },
        "id": "7gGbuMnGNQTN",
        "outputId": "f740c540-4d93-4b1e-8603-ff51849cbd86"
      },
      "execution_count": 19,
      "outputs": [
        {
          "output_type": "execute_result",
          "data": {
            "text/plain": [
              "2*x"
            ],
            "text/latex": "$\\displaystyle 2 x$"
          },
          "metadata": {},
          "execution_count": 19
        }
      ]
    },
    {
      "cell_type": "markdown",
      "source": [
        "Or maybe"
      ],
      "metadata": {
        "id": "oneM-D2wN4a8"
      }
    },
    {
      "cell_type": "code",
      "source": [
        "y.diff(x).diff(x) +2*y.diff(x) +y == 2*x"
      ],
      "metadata": {
        "colab": {
          "base_uri": "https://localhost:8080/"
        },
        "id": "tfG68G0RNjxO",
        "outputId": "3ab4f013-bec6-4a7a-f123-39989b897d3f"
      },
      "execution_count": 20,
      "outputs": [
        {
          "output_type": "execute_result",
          "data": {
            "text/plain": [
              "True"
            ]
          },
          "metadata": {},
          "execution_count": 20
        }
      ]
    },
    {
      "cell_type": "code",
      "source": [],
      "metadata": {
        "id": "ZNskORYwN8Si"
      },
      "execution_count": null,
      "outputs": []
    }
  ]
}